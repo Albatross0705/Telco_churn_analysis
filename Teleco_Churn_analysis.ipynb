{
  "nbformat": 4,
  "nbformat_minor": 0,
  "metadata": {
    "colab": {
      "private_outputs": true,
      "provenance": []
    },
    "kernelspec": {
      "name": "python3",
      "display_name": "Python 3"
    },
    "language_info": {
      "name": "python"
    }
  },
  "cells": [
    {
      "cell_type": "code",
      "source": [
        "import pandas as pd\n",
        "import matplotlib.pyplot as plt\n",
        "import numpy as np\n",
        "import seaborn as sns"
      ],
      "metadata": {
        "id": "Z04fGzjoFYk4"
      },
      "execution_count": null,
      "outputs": []
    },
    {
      "cell_type": "code",
      "execution_count": null,
      "metadata": {
        "id": "qaGCqqyUE143"
      },
      "outputs": [],
      "source": [
        "df = pd.read_csv('/content/Telco_Customer_Churn.csv')"
      ]
    },
    {
      "cell_type": "code",
      "source": [
        "df.head()"
      ],
      "metadata": {
        "id": "GPZotGs1FbJM"
      },
      "execution_count": null,
      "outputs": []
    },
    {
      "cell_type": "code",
      "source": [
        "df.shape"
      ],
      "metadata": {
        "id": "mPsMOckLWOzV"
      },
      "execution_count": null,
      "outputs": []
    },
    {
      "cell_type": "code",
      "source": [
        "df.info()"
      ],
      "metadata": {
        "id": "0D_JQVNaFy3e"
      },
      "execution_count": null,
      "outputs": []
    },
    {
      "cell_type": "code",
      "source": [
        "#replacing blanks with 0 as teunure is 0 and no total charges are recoreded\n",
        "df[\"TotalCharges\"] = df[\"TotalCharges\"].replace(\" \",\"0\")\n",
        "df[\"TotalCharges\"] = df[\"TotalCharges\"].astype(\"float\")"
      ],
      "metadata": {
        "id": "JzvwdxQuG3vJ"
      },
      "execution_count": null,
      "outputs": []
    },
    {
      "cell_type": "code",
      "source": [
        "df.isna().sum()"
      ],
      "metadata": {
        "id": "qcMjVxnQHUL8"
      },
      "execution_count": null,
      "outputs": []
    },
    {
      "cell_type": "code",
      "source": [
        "df.describe()"
      ],
      "metadata": {
        "id": "Al1H0IKaHxAT"
      },
      "execution_count": null,
      "outputs": []
    },
    {
      "cell_type": "code",
      "source": [
        "df[\"customerID\"].duplicated().sum()"
      ],
      "metadata": {
        "id": "wLwQGLaVH76w"
      },
      "execution_count": null,
      "outputs": []
    },
    {
      "cell_type": "code",
      "source": [
        "def conv(value):\n",
        "  if value == 1:\n",
        "    return \"yes\"\n",
        "  else:\n",
        "    return \"no\"\n",
        "\n",
        "df[\"SeniorCitizen\"] = df[\"SeniorCitizen\"].apply(conv)"
      ],
      "metadata": {
        "id": "QLF1WJtVIRLb"
      },
      "execution_count": null,
      "outputs": []
    },
    {
      "cell_type": "code",
      "source": [
        "ax = sns.countplot(x= 'Churn',data = df)\n",
        "ax.bar_label(ax.containers[0])\n",
        "plt.title(\"Count of customer by Churn\")\n",
        "plt.show()"
      ],
      "metadata": {
        "id": "rWojZHL3JGww"
      },
      "execution_count": null,
      "outputs": []
    },
    {
      "cell_type": "code",
      "source": [
        "gb = df[\"Churn\"].value_counts()\n",
        "plt.pie(gb,labels = gb.index,autopct = \"%1.2f%%\" )\n",
        "plt.title(\"Percentage of Churn Customer\")\n",
        "plt.show()"
      ],
      "metadata": {
        "id": "KLll4t0QJNvV"
      },
      "execution_count": null,
      "outputs": []
    },
    {
      "cell_type": "markdown",
      "source": [
        "#From the given pie chart we acn conclude that 26.54% of customers have churned out"
      ],
      "metadata": {
        "id": "B5TxCPlXMLHm"
      }
    },
    {
      "cell_type": "code",
      "source": [
        "sns.countplot(x = \"gender\",data = df,hue = \"Churn\")\n",
        "plt.title(\"Count of Churn by Gender\")\n",
        "plt.show()"
      ],
      "metadata": {
        "id": "BXQQ7B4yMJ6X"
      },
      "execution_count": null,
      "outputs": []
    },
    {
      "cell_type": "code",
      "source": [
        "sns.countplot(x = \"SeniorCitizen\",data = df,hue = \"Churn\")\n",
        "plt.title(\"Count of Churn by SeniorCitizen\")\n",
        "plt.show()"
      ],
      "metadata": {
        "id": "3XzFJuQzMev2"
      },
      "execution_count": null,
      "outputs": []
    },
    {
      "cell_type": "code",
      "source": [
        "contingency_table = pd.crosstab(df['SeniorCitizen'], df['Churn'], normalize='index')\n",
        "\n",
        "# Plot the stacked bar plot\n",
        "ax = contingency_table.plot(kind='bar', stacked=True)\n",
        "\n",
        "# Add labels and percentages\n",
        "for container in ax.containers:\n",
        "    ax.bar_label(container, label_type='center', fmt='%.2f%%')\n",
        "\n",
        "plt.title(\"Count of Churn by SeniorCitizen\")\n",
        "plt.xlabel(\"SeniorCitizen\")\n",
        "plt.ylabel(\"Percentage\")\n",
        "plt.legend(title=\"Churn\")\n",
        "plt.show()"
      ],
      "metadata": {
        "id": "QmMFa7DONCRQ"
      },
      "execution_count": null,
      "outputs": []
    },
    {
      "cell_type": "code",
      "source": [
        "ax = sns.countplot(x= 'SeniorCitizen',data = df)\n",
        "ax.bar_label(ax.containers[0])\n",
        "plt.title(\"Churn by SeniorCitizen\")\n",
        "plt.show()"
      ],
      "metadata": {
        "id": "r0HOeLQgNec3"
      },
      "execution_count": null,
      "outputs": []
    },
    {
      "cell_type": "code",
      "source": [
        "plt.figure(figsize=(9,4))\n",
        "sns.histplot(x = \"tenure\", data = df,bins = 72,hue = \"Churn\")\n",
        "plt.show()"
      ],
      "metadata": {
        "id": "WjNGe9DiOh8c"
      },
      "execution_count": null,
      "outputs": []
    },
    {
      "cell_type": "code",
      "source": [
        "# people who have use services for a longtime stayed and people\n",
        "# who have used our service # 1 or month have churned"
      ],
      "metadata": {
        "id": "RqFrMsvcO_eC"
      },
      "execution_count": null,
      "outputs": []
    },
    {
      "cell_type": "code",
      "source": [
        "ax = sns.countplot(x= 'Contract',data = df,hue = 'Churn')\n",
        "ax.bar_label(ax.containers[0])\n",
        "plt.title(\"Customer by Contract\")\n",
        "plt.show()"
      ],
      "metadata": {
        "id": "8VW6Wy_YP5wh"
      },
      "execution_count": null,
      "outputs": []
    },
    {
      "cell_type": "code",
      "source": [
        "# people who havr month to month contract are likely to churn then\n",
        "# from those who have 1 or 2 years or contract."
      ],
      "metadata": {
        "id": "M_1J49bPQNQ2"
      },
      "execution_count": null,
      "outputs": []
    },
    {
      "cell_type": "code",
      "source": [
        "columns = ['PhoneService', 'MultipleLines', 'InternetService', 'OnlineSecurity', 'OnlineBackup', 'DeviceProtection', 'TechSupport', 'StreamingTV', 'StreamingMovies']\n",
        "\n",
        "# Set up the matplotlib figure\n",
        "fig, axes = plt.subplots(nrows=3, ncols=3, figsize=(15, 15))\n",
        "fig.suptitle('Count Plots for Various Services', fontsize=16)\n",
        "\n",
        "# Flatten the axes array for easy iteration\n",
        "axes = axes.flatten()\n",
        "\n",
        "# Create a count plot for each column\n",
        "for i, col in enumerate(columns):\n",
        "    sns.countplot(x=col, data=df, ax=axes[i],hue = \"Churn\")\n",
        "    axes[i].set_title(f'Count of {col}')\n",
        "    axes[i].set_xlabel('')\n",
        "    axes[i].set_ylabel('Count')\n",
        "\n",
        "# Adjust layout\n",
        "plt.tight_layout(rect=[0, 0.03, 1, 0.95])\n",
        "plt.show()"
      ],
      "metadata": {
        "id": "EzMMxuflQ03u"
      },
      "execution_count": null,
      "outputs": []
    },
    {
      "cell_type": "markdown",
      "source": [
        "PhoneService: Most customers have phone service, with a noticeable difference in churn rates between those who have it and those who don't.\n",
        "\n",
        "MultipleLines: Higher churn rate for customers with multiple lines.\n",
        "\n",
        "InternetService: Fiber optic users have a higher churn rate compared to DSL or no internet service.\n",
        "\n",
        "OnlineSecurity, OnlineBackup, DeviceProtection, TechSupport: Customers without these services are more likely to churn.\n",
        "\n",
        "StreamingTV and StreamingMovies: Slightly higher churn rates for customers with these services.\n",
        "\n",
        "Overall, customers lacking additional services like online security and tech support, or those with fiber optic internet and multiple lines, show higher churn rates."
      ],
      "metadata": {
        "id": "WiJDal9rTmhM"
      }
    },
    {
      "cell_type": "code",
      "source": [
        "ax = sns.countplot(x= 'PaymentMethod',data = df,hue = 'Churn')\n",
        "ax.bar_label(ax.containers[0])\n",
        "ax.bar_label(ax.containers[1])\n",
        "plt.title(\"Churned Customer by PaymentMethod\")\n",
        "plt.xticks(rotation = 45)\n",
        "plt.show()"
      ],
      "metadata": {
        "id": "-bV3MrW7RNmN"
      },
      "execution_count": null,
      "outputs": []
    },
    {
      "cell_type": "code",
      "source": [
        "# customer likely to churn when he is using electronic check"
      ],
      "metadata": {
        "id": "2oVMxUZgUJnU"
      },
      "execution_count": null,
      "outputs": []
    }
  ]
}